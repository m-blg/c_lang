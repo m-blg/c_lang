{
 "cells": [
  {
   "cell_type": "code",
   "execution_count": 120,
   "metadata": {},
   "outputs": [
    {
     "name": "stdout",
     "output_type": "stream",
     "text": [
      "<class 'int'>\n",
      "139771306709576\n",
      "139771306709608\n",
      "<class 'float'>\n",
      "139770941884272\n",
      "<class 'type'>\n",
      "139771306691616\n",
      "139771306685504\n",
      "139771306685504\n",
      "True True\n",
      "True True\n"
     ]
    }
   ],
   "source": [
    "print(type(42))\n",
    "print(id(42))\n",
    "print(id(43))\n",
    "print(type(42.0))\n",
    "print(id(42.0))\n",
    "\n",
    "print(type(type(42.0)))\n",
    "print(id(type(42.0)))\n",
    "print(id(type(42)))\n",
    "print(id(type(43)))\n",
    "\n",
    "print(id(type(43)) == id(type(42)), type(43) is type(42))\n",
    "print(id(type(43.0)) == id(type(42.0)), type(43.0) is type(42.0))"
   ]
  },
  {
   "cell_type": "code",
   "execution_count": 121,
   "metadata": {},
   "outputs": [
    {
     "name": "stdout",
     "output_type": "stream",
     "text": [
      "<class 'type'> True\n",
      "<class '__main__.C'> True\n",
      "<class '__main__.C'> True\n",
      "<class 'function'> True\n",
      "<class 'function'> True\n",
      "<class 'method'> False\n",
      "<class 'method'> False\n",
      "<class 'method'> False\n",
      "<class 'method'> False\n",
      "['__annotations__', '__builtins__', '__call__', '__class__', '__closure__', '__code__', '__defaults__', '__delattr__', '__dict__', '__dir__', '__doc__', '__eq__', '__format__', '__ge__', '__get__', '__getattribute__', '__getstate__', '__globals__', '__gt__', '__hash__', '__init__', '__init_subclass__', '__kwdefaults__', '__le__', '__lt__', '__module__', '__name__', '__ne__', '__new__', '__qualname__', '__reduce__', '__reduce_ex__', '__repr__', '__setattr__', '__sizeof__', '__str__', '__subclasshook__']\n",
      "['__new__', '__repr__', '__call__', '__get__', '__closure__', '__doc__', '__globals__', '__module__', '__builtins__', '__code__', '__defaults__', '__kwdefaults__', '__annotations__', '__dict__', '__name__', '__qualname__', '__hash__', '__str__', '__getattribute__', '__setattr__', '__delattr__', '__lt__', '__le__', '__eq__', '__ne__', '__gt__', '__ge__', '__init__', '__reduce_ex__', '__reduce__', '__getstate__', '__subclasshook__', '__init_subclass__', '__format__', '__sizeof__', '__dir__', '__class__']\n",
      "[]\n",
      "False\n"
     ]
    }
   ],
   "source": [
    "class C:\n",
    "    def m(): pass\n",
    "    def m2(self): pass\n",
    "    @classmethod\n",
    "    def m3(self): pass\n",
    "\n",
    "c = C()\n",
    "c2 = C()\n",
    "\n",
    "print(type(C), C is C)\n",
    "print(type(c), c is c)\n",
    "print(type(c2), c2 is c2)\n",
    "\n",
    "print(type(C.m), C.m is C.m)\n",
    "print(type(C.m2), C.m2 is C.m2)\n",
    "print(type(C.m3), C.m3 is C.m3)\n",
    "print(type(c.m), c.m is c.m)\n",
    "print(type(c.m2), c.m2 is c.m2)\n",
    "print(type(c.m3), c.m3 is c.m3)\n",
    "\n",
    "print(dir(C.m))\n",
    "print(C.m.__dir__())\n",
    "print([x for x in  C.m.__dir__() if not x in dir(C.m)])\n",
    "print(dir(C.m) == C.m.__dir__())\n",
    "\n"
   ]
  },
  {
   "cell_type": "code",
   "execution_count": 122,
   "metadata": {},
   "outputs": [
    {
     "name": "stdout",
     "output_type": "stream",
     "text": [
      "<class 'function'>\n",
      "None\n",
      "foo foo\n",
      "None\n",
      "__main__\n",
      "{}\n",
      "None None {'i': <class 'int'>, 'return': <class 'int'>}\n"
     ]
    }
   ],
   "source": [
    "# doc text\n",
    "def foo(i: int) -> int:\n",
    "    global a\n",
    "    m = 3\n",
    "    def fn(): pass\n",
    "    return m\n",
    "\n",
    "print(type(foo))\n",
    "print(foo.__doc__)\n",
    "print(foo.__name__, foo.__qualname__)\n",
    "# print(foo.__globals__)\n",
    "print(foo.__closure__)\n",
    "print(foo.__module__)\n",
    "print(foo.__dict__)\n",
    "print(foo.__defaults__, foo.__kwdefaults__, foo.__annotations__)"
   ]
  },
  {
   "cell_type": "code",
   "execution_count": 123,
   "metadata": {},
   "outputs": [
    {
     "name": "stdout",
     "output_type": "stream",
     "text": [
      "<class 'function'>\n",
      " doc text \n",
      "bar bar\n",
      "None\n",
      "__main__\n",
      "{'var': 'text'}\n",
      "(3,) None {'i': <class 'int'>, 'b': <class 'int'>, 'return': <built-in function callable>}\n",
      "<class 'function'>\n",
      "None\n",
      "fn bar.<locals>.fn\n",
      "(<cell at 0x7f1f0426b370: int object at 0x7f1f0b160d68>,)\n",
      "__main__\n",
      "{}\n",
      "None None {}\n"
     ]
    }
   ],
   "source": [
    "a = 5\n",
    "def bar(i: int, b: int = 3, *d) -> callable:\n",
    "    \"\"\" doc text \"\"\"\n",
    "    global a\n",
    "    m = 3\n",
    "    def fn(): \n",
    "        return m, a\n",
    "    return fn\n",
    "    \n",
    "bar.var = 'text'\n",
    "\n",
    "print(type(bar))\n",
    "print(bar.__doc__)\n",
    "print(bar.__name__, bar.__qualname__)\n",
    "# print(bar.__globals__)\n",
    "print(bar.__closure__)\n",
    "print(bar.__module__)\n",
    "print(bar.__dict__)\n",
    "print(bar.__defaults__, bar.__kwdefaults__, bar.__annotations__)\n",
    "\n",
    "f = bar(1)\n",
    "print(type(f))\n",
    "\n",
    "print(f.__doc__)\n",
    "print(f.__name__, f.__qualname__)\n",
    "# print(f.__globals__)\n",
    "print(f.__closure__)\n",
    "print(f.__module__)\n",
    "print(f.__dict__)\n",
    "print(f.__defaults__, f.__kwdefaults__, f.__annotations__)\n"
   ]
  },
  {
   "cell_type": "code",
   "execution_count": 124,
   "metadata": {},
   "outputs": [
    {
     "name": "stdout",
     "output_type": "stream",
     "text": [
      "[3, 4, 5]\n",
      "<class 'function'>\n",
      "<class 'function'>\n",
      "<function gen at 0x7f1ef55e04a0>\n",
      "<class 'builtin_function_or_method'>\n"
     ]
    }
   ],
   "source": [
    "def gen():\n",
    "    yield 3\n",
    "    yield 4\n",
    "    yield 5\n",
    "\n",
    "print([i for i in gen()])\n",
    "\n",
    "print(type(gen))\n",
    "\n",
    "async def gen():\n",
    "    yield 3\n",
    "    yield 4\n",
    "    yield 5\n",
    "\n",
    "# print([i for i in gen()])\n",
    "\n",
    "print(type(gen))\n",
    "print(gen)\n",
    "print(type(len))"
   ]
  },
  {
   "cell_type": "code",
   "execution_count": 131,
   "metadata": {},
   "outputs": [
    {
     "name": "stdout",
     "output_type": "stream",
     "text": [
      "gen ()\n",
      "__class__: <class 'code'>\n",
      "__delattr__: <method-wrapper '__delattr__' of code object at 0x7f1ef541c1f0>\n",
      "__dir__: <built-in method __dir__ of code object at 0x7f1ef541c1f0>\n",
      "__doc__: Create a code object.  Not for the faint of heart.\n",
      "__eq__: <method-wrapper '__eq__' of code object at 0x7f1ef541c1f0>\n",
      "__format__: <built-in method __format__ of code object at 0x7f1ef541c1f0>\n",
      "__ge__: <method-wrapper '__ge__' of code object at 0x7f1ef541c1f0>\n",
      "__getattribute__: <method-wrapper '__getattribute__' of code object at 0x7f1ef541c1f0>\n",
      "__getstate__: <built-in method __getstate__ of code object at 0x7f1ef541c1f0>\n",
      "__gt__: <method-wrapper '__gt__' of code object at 0x7f1ef541c1f0>\n",
      "__hash__: <method-wrapper '__hash__' of code object at 0x7f1ef541c1f0>\n",
      "__init__: <method-wrapper '__init__' of code object at 0x7f1ef541c1f0>\n",
      "__init_subclass__: <built-in method __init_subclass__ of type object at 0x7f1f0b15f5a0>\n",
      "__le__: <method-wrapper '__le__' of code object at 0x7f1ef541c1f0>\n",
      "__lt__: <method-wrapper '__lt__' of code object at 0x7f1ef541c1f0>\n",
      "__ne__: <method-wrapper '__ne__' of code object at 0x7f1ef541c1f0>\n",
      "__new__: <built-in method __new__ of type object at 0x7f1f0b15f5a0>\n",
      "__reduce__: <built-in method __reduce__ of code object at 0x7f1ef541c1f0>\n",
      "__reduce_ex__: <built-in method __reduce_ex__ of code object at 0x7f1ef541c1f0>\n",
      "__repr__: <method-wrapper '__repr__' of code object at 0x7f1ef541c1f0>\n",
      "__setattr__: <method-wrapper '__setattr__' of code object at 0x7f1ef541c1f0>\n",
      "__sizeof__: <built-in method __sizeof__ of code object at 0x7f1ef541c1f0>\n",
      "__str__: <method-wrapper '__str__' of code object at 0x7f1ef541c1f0>\n",
      "__subclasshook__: <built-in method __subclasshook__ of type object at 0x7f1f0b15f5a0>\n",
      "_co_code_adaptive: b'K\\x00\\x01\\x00\\x97\\x00d\\x01W\\x00V\\x00\\x97\\x01\\x01\\x00d\\x02W\\x00V\\x00\\x97\\x01\\x01\\x00d\\x03W\\x00V\\x00\\x97\\x01\\x01\\x00d\\x00S\\x00'\n",
      "_varname_from_oparg: <built-in method _varname_from_oparg of code object at 0x7f1ef541c1f0>\n",
      "co_argcount: 0\n",
      "co_cellvars: ()\n",
      "co_code: b'K\\x00\\x01\\x00\\x97\\x00d\\x01W\\x00V\\x00\\x97\\x01\\x01\\x00d\\x02W\\x00V\\x00\\x97\\x01\\x01\\x00d\\x03W\\x00V\\x00\\x97\\x01\\x01\\x00d\\x00S\\x00'\n",
      "co_consts: (None, 3, 4, 5)\n",
      "co_exceptiontable: b''\n",
      "co_filename: /tmp/ipykernel_678381/1215846347.py\n",
      "co_firstlineno: 10\n",
      "co_flags: 515\n",
      "co_freevars: ()\n",
      "co_kwonlyargcount: 0\n",
      "co_lines: <built-in method co_lines of code object at 0x7f1ef541c1f0>\n",
      "co_linetable: b'\\xe8\\x00\\xe8\\x00\\x80\\x00\\xd8\\n\\x0b\\x80G\\x80G\\x80G\\x80G\\xd8\\n\\x0b\\x80G\\x80G\\x80G\\x80G\\xd8\\n\\x0b\\x80G\\x80G\\x80G\\x80G\\x80G\\x80G'\n",
      "co_lnotab: b'\\x06\\x01\\n\\x01\\n\\x01'\n",
      "co_name: gen\n",
      "co_names: ()\n",
      "co_nlocals: 0\n",
      "co_positions: <built-in method co_positions of code object at 0x7f1ef541c1f0>\n",
      "co_posonlyargcount: 0\n",
      "co_qualname: gen\n",
      "co_stacksize: 1\n",
      "co_varnames: ()\n",
      "replace: <built-in method replace of code object at 0x7f1ef541c1f0>\n"
     ]
    }
   ],
   "source": [
    "c = gen.__code__\n",
    "print(c.co_name, c.co_names)\n",
    "\n",
    "for x in dir(c):\n",
    "    print(f\"{x}:\", eval(\"c.\"+x))"
   ]
  },
  {
   "cell_type": "code",
   "execution_count": 144,
   "metadata": {},
   "outputs": [
    {
     "name": "stdout",
     "output_type": "stream",
     "text": [
      "139771306709576 139771306709576\n",
      "139771306709608 139771306709576\n",
      "43 42\n",
      "139771216768768 139771216768768\n",
      "139771216768768 139771216768768\n",
      "['apple', 'banana'] ['apple', 'banana']\n",
      "139770940673664 139770940673664\n",
      "139771216457600 139770940673664\n",
      "['apple', 'banana'] ['apple']\n"
     ]
    }
   ],
   "source": [
    "number = 42\n",
    "another_number = number\n",
    "print(id(number), id(another_number))\n",
    "number += 1\n",
    "print(id(number), id(another_number))\n",
    "print(number, another_number)\n",
    "\n",
    "\n",
    "fruits = [\"apple\"]\n",
    "another_fruits = fruits\n",
    "print(id(fruits), id(another_fruits))\n",
    "fruits += [\"banana\"]\n",
    "print(id(fruits), id(another_fruits))\n",
    "print(fruits, another_fruits)\n",
    "\n",
    "\n",
    "l = [\"apple\"]\n",
    "another_l = l\n",
    "print(id(l), id(another_l))\n",
    "l = l + [\"banana\"]\n",
    "print(id(l), id(another_l))\n",
    "print(l, another_l)"
   ]
  },
  {
   "cell_type": "code",
   "execution_count": 141,
   "metadata": {},
   "outputs": [
    {
     "name": "stdout",
     "output_type": "stream",
     "text": [
      "  0           0 RESUME                   0\n",
      "\n",
      "  1           2 LOAD_CONST               0 (3)\n",
      "              4 STORE_NAME               0 (a)\n",
      "              6 LOAD_CONST               1 (None)\n",
      "              8 RETURN_VALUE\n",
      "3\n"
     ]
    }
   ],
   "source": [
    "import dis\n",
    "\n",
    "a = 0\n",
    "c = compile(\"a = 3\", \"<string>\", \"exec\")\n",
    "dis.dis(c)\n",
    "exec(c)\n",
    "print(a)\n"
   ]
  },
  {
   "cell_type": "code",
   "execution_count": 2,
   "metadata": {},
   "outputs": [
    {
     "name": "stdout",
     "output_type": "stream",
     "text": [
      "['a', 1, (<class 'int'>, <class 'float'>)]\n",
      "('a', 1, (<class 'int'>, <class 'float'>))\n"
     ]
    }
   ],
   "source": [
    "import numbers\n",
    "immutable_types = [int, float, str, bytes, tuple]\n",
    "\n",
    "def mapping(l: list):\n",
    "    l = l[:] # avoid argument mutation\n",
    "    \n",
    "l = ['a', 1, (int, float)]\n",
    "print(l)\n",
    "print(tuple(l))\n",
    "\n",
    "# https://realpython.com/python-mutable-vs-immutable-types/"
   ]
  },
  {
   "attachments": {},
   "cell_type": "markdown",
   "metadata": {},
   "source": [
    "# Modules"
   ]
  },
  {
   "cell_type": "code",
   "execution_count": null,
   "metadata": {},
   "outputs": [
    {
     "ename": "ModuleNotFoundError",
     "evalue": "No module named 'lib'",
     "output_type": "error",
     "traceback": [
      "\u001b[0;31m---------------------------------------------------------------------------\u001b[0m",
      "\u001b[0;31mModuleNotFoundError\u001b[0m                       Traceback (most recent call last)",
      "Cell \u001b[0;32mIn[10], line 1\u001b[0m\n\u001b[0;32m----> 1\u001b[0m \u001b[39mfrom\u001b[39;00m \u001b[39mlib\u001b[39;00m\u001b[39m.\u001b[39;00m\u001b[39mc\u001b[39;00m \u001b[39mimport\u001b[39;00m parser_keyword\n",
      "\u001b[0;31mModuleNotFoundError\u001b[0m: No module named 'lib'"
     ]
    }
   ],
   "source": [
    "from lib.c import parser_keyword\n",
    "\n"
   ]
  },
  {
   "attachments": {},
   "cell_type": "markdown",
   "metadata": {},
   "source": [
    "# Types"
   ]
  },
  {
   "cell_type": "code",
   "execution_count": 1,
   "metadata": {},
   "outputs": [],
   "source": [
    "from typing import Callable, Optional, TypeAlias\n",
    "\n",
    "type Parser[D, T] = tuple[D, T]"
   ]
  }
 ],
 "metadata": {
  "kernelspec": {
   "display_name": "Python 3",
   "language": "python",
   "name": "python3"
  },
  "language_info": {
   "codemirror_mode": {
    "name": "ipython",
    "version": 3
   },
   "file_extension": ".py",
   "mimetype": "text/x-python",
   "name": "python",
   "nbconvert_exporter": "python",
   "pygments_lexer": "ipython3",
   "version": "3.12.1"
  },
  "orig_nbformat": 4,
  "vscode": {
   "interpreter": {
    "hash": "ea2d0de66aaa89d877809e6e9dcecf5d9c95e6fc0f4afd0a1d8731ae6cea6e04"
   }
  }
 },
 "nbformat": 4,
 "nbformat_minor": 2
}
