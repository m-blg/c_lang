{
 "cells": [
  {
   "cell_type": "code",
   "execution_count": 50,
   "metadata": {},
   "outputs": [
    {
     "name": "stdout",
     "output_type": "stream",
     "text": [
      "Module(\n",
      "  body=[\n",
      "    FunctionDef(\n",
      "      name='f',\n",
      "      args=arguments(\n",
      "        posonlyargs=[],\n",
      "        args=[\n",
      "          arg(\n",
      "            arg='a',\n",
      "            annotation=Name(id='int', ctx=Load())),\n",
      "          arg(\n",
      "            arg='b',\n",
      "            annotation=Name(id='int', ctx=Load()))],\n",
      "        kwonlyargs=[],\n",
      "        kw_defaults=[],\n",
      "        defaults=[]),\n",
      "      body=[\n",
      "        Return(\n",
      "          value=BinOp(\n",
      "            left=Name(id='a', ctx=Load()),\n",
      "            op=Sub(),\n",
      "            right=Name(id='b', ctx=Load())))],\n",
      "      decorator_list=[\n",
      "        Name(id='b', ctx=Load())],\n",
      "      returns=Name(id='int', ctx=Load()))],\n",
      "  type_ignores=[])\n",
      "@b\n",
      "def f(a: int, b: int) -> int:\n",
      "    return a - b\n"
     ]
    },
    {
     "data": {
      "text/plain": [
       "7"
      ]
     },
     "execution_count": 50,
     "metadata": {},
     "output_type": "execute_result"
    }
   ],
   "source": [
    "import ast\n",
    "import inspect\n",
    "from typing import Callable\n",
    "import pprint\n",
    "import json\n",
    "\n",
    "pp = pprint.PrettyPrinter(depth=4)\n",
    "\n",
    "def b(f: Callable[[int, int], int]) -> Callable[[int, int], int]:\n",
    "    s = inspect.getsource(f)\n",
    "    tree = ast.parse(s)\n",
    "\n",
    "    tree.body[0].body[0].value.op = ast.Sub()\n",
    "\n",
    "    print(ast.dump(tree, indent=2))\n",
    "    print(ast.unparse(tree))\n",
    "    \n",
    "    # eval(ast.unparse(tree))\n",
    "\n",
    "    return f\n",
    "\n",
    "@b\n",
    "def f(a: int, b: int) -> int:\n",
    "    return a + b\n",
    "\n",
    "\n",
    "f(3, 4)\n",
    "\n"
   ]
  },
  {
   "cell_type": "code",
   "execution_count": 1,
   "metadata": {},
   "outputs": [
    {
     "ename": "SyntaxError",
     "evalue": "invalid syntax (3956471386.py, line 4)",
     "output_type": "error",
     "traceback": [
      "\u001b[0;36m  Cell \u001b[0;32mIn[1], line 4\u001b[0;36m\u001b[0m\n\u001b[0;31m    global def g():\u001b[0m\n\u001b[0m           ^\u001b[0m\n\u001b[0;31mSyntaxError\u001b[0m\u001b[0;31m:\u001b[0m invalid syntax\n"
     ]
    }
   ],
   "source": [
    "import pydantic\n",
    "\n",
    "def f1():\n",
    "    def g():\n",
    "        print('f1-g')\n",
    "        None\n",
    "    return g\n",
    "\n",
    "def f2(func):\n",
    "    def g():\n",
    "        func()()\n",
    "        print('f2-g')\n",
    "        None\n",
    "    return g\n",
    "\n",
    "# f1()()    \n",
    "f2(f1)()    \n",
    "\n",
    "f1.__name__ = 'f3'\n",
    "\n",
    "f1.__name__"
   ]
  },
  {
   "cell_type": "code",
   "execution_count": 7,
   "metadata": {},
   "outputs": [
    {
     "name": "stdout",
     "output_type": "stream",
     "text": [
      "1\n",
      "0\n"
     ]
    }
   ],
   "source": [
    "a = 0\n",
    "def f():\n",
    "    # global a\n",
    "    a = 1\n",
    "    print(f\"{a}\")\n",
    "\n",
    "f()\n",
    "print(f\"{a}\")"
   ]
  },
  {
   "cell_type": "code",
   "execution_count": 13,
   "metadata": {},
   "outputs": [],
   "source": [
    "def f():\n",
    "    None\n",
    "\n",
    "def f(x):\n",
    "    return 3\n"
   ]
  },
  {
   "cell_type": "code",
   "execution_count": 17,
   "metadata": {},
   "outputs": [
    {
     "data": {
      "text/plain": [
       "{'__name__': '__main__',\n",
       " '__doc__': 'Automatically created module for IPython interactive environment',\n",
       " '__package__': None,\n",
       " '__loader__': None,\n",
       " '__spec__': None,\n",
       " '__builtin__': <module 'builtins' (built-in)>,\n",
       " '__builtins__': <module 'builtins' (built-in)>,\n",
       " '_ih': ['',\n",
       "  'a = 0\\ndef f():\\n    a = 1\\n    print(\"{a}\")\\n\\nf()\\nprint(f\"{a}\")',\n",
       "  'a = 0\\ndef f():\\n    a = 1\\n    print(f\"{a}\")\\n\\nf()\\nprint(f\"{a}\")',\n",
       "  'a = 0\\ndef f():\\n    a = 1\\n    print(f\"{a}\")\\n\\nf()\\nprint(f\"{a}\")',\n",
       "  'a = 0\\ndef f():\\n    global a\\n    a = 1\\n    print(f\"{a}\")\\n\\nf()\\nprint(f\"{a}\")',\n",
       "  'a = 0\\ndef f():\\n    global a\\n    a = 1\\n    print(f\"{a}\")\\n\\nf()\\nprint(f\"{a}\")',\n",
       "  'a = 0\\ndef f():\\n    # global a\\n    a = 1\\n    print(f\"{a}\")\\n\\nf()\\nprint(f\"{a}\")',\n",
       "  'a = 0\\ndef f():\\n    # global a\\n    a = 1\\n    print(f\"{a}\")\\n\\nf()\\nprint(f\"{a}\")',\n",
       "  'def f():\\n    None',\n",
       "  'def f():\\n    None\\n\\ndef f():\\n    return 3',\n",
       "  'def f():\\n    None\\n\\ndef f(x):\\n    return 3',\n",
       "  'def f():\\n    None\\n\\ndef f(x):\\n    return 3\\n\\nf()',\n",
       "  'def f():\\n    None\\n\\ndef f(x):\\n    return 3\\n\\nglobal f',\n",
       "  'def f():\\n    None\\n\\ndef f(x):\\n    return 3\\n\\nglobal f',\n",
       "  'def g():\\n    global g0\\n    def g0():\\n        return g0.__name__\\n\\ng()',\n",
       "  'def g():\\n    global g0\\n    def g0():\\n        return g0.__name__\\n\\ng()\\ng0()',\n",
       "  'def g():\\n    global g0\\n    locals()\\n    def g0():\\n        return g0.__name__\\n\\ng()\\ng0()',\n",
       "  'def g():\\n    global g0\\n    def g0():\\n        return g0.__name__\\n\\ng()\\ng0()\\nlocals()'],\n",
       " '_oh': {15: 'g0', 16: 'g0'},\n",
       " '_dh': [PosixPath('/home/mbgl/Desktop/dev/Python/ast'),\n",
       "  PosixPath('/home/mbgl/Desktop/dev/Python/ast')],\n",
       " 'In': ['',\n",
       "  'a = 0\\ndef f():\\n    a = 1\\n    print(\"{a}\")\\n\\nf()\\nprint(f\"{a}\")',\n",
       "  'a = 0\\ndef f():\\n    a = 1\\n    print(f\"{a}\")\\n\\nf()\\nprint(f\"{a}\")',\n",
       "  'a = 0\\ndef f():\\n    a = 1\\n    print(f\"{a}\")\\n\\nf()\\nprint(f\"{a}\")',\n",
       "  'a = 0\\ndef f():\\n    global a\\n    a = 1\\n    print(f\"{a}\")\\n\\nf()\\nprint(f\"{a}\")',\n",
       "  'a = 0\\ndef f():\\n    global a\\n    a = 1\\n    print(f\"{a}\")\\n\\nf()\\nprint(f\"{a}\")',\n",
       "  'a = 0\\ndef f():\\n    # global a\\n    a = 1\\n    print(f\"{a}\")\\n\\nf()\\nprint(f\"{a}\")',\n",
       "  'a = 0\\ndef f():\\n    # global a\\n    a = 1\\n    print(f\"{a}\")\\n\\nf()\\nprint(f\"{a}\")',\n",
       "  'def f():\\n    None',\n",
       "  'def f():\\n    None\\n\\ndef f():\\n    return 3',\n",
       "  'def f():\\n    None\\n\\ndef f(x):\\n    return 3',\n",
       "  'def f():\\n    None\\n\\ndef f(x):\\n    return 3\\n\\nf()',\n",
       "  'def f():\\n    None\\n\\ndef f(x):\\n    return 3\\n\\nglobal f',\n",
       "  'def f():\\n    None\\n\\ndef f(x):\\n    return 3\\n\\nglobal f',\n",
       "  'def g():\\n    global g0\\n    def g0():\\n        return g0.__name__\\n\\ng()',\n",
       "  'def g():\\n    global g0\\n    def g0():\\n        return g0.__name__\\n\\ng()\\ng0()',\n",
       "  'def g():\\n    global g0\\n    locals()\\n    def g0():\\n        return g0.__name__\\n\\ng()\\ng0()',\n",
       "  'def g():\\n    global g0\\n    def g0():\\n        return g0.__name__\\n\\ng()\\ng0()\\nlocals()'],\n",
       " 'Out': {15: 'g0', 16: 'g0'},\n",
       " 'get_ipython': <bound method InteractiveShell.get_ipython of <ipykernel.zmqshell.ZMQInteractiveShell object at 0x7fe3601d1dd0>>,\n",
       " 'exit': <IPython.core.autocall.ZMQExitAutocall at 0x7fe3601da490>,\n",
       " 'quit': <IPython.core.autocall.ZMQExitAutocall at 0x7fe3601da490>,\n",
       " 'open': <function io.open(file, mode='r', buffering=-1, encoding=None, errors=None, newline=None, closefd=True, opener=None)>,\n",
       " '_': 'g0',\n",
       " '__': 'g0',\n",
       " '___': '',\n",
       " '__vsc_ipynb_file__': '/home/mbgl/Desktop/dev/Python/ast/test.ipynb',\n",
       " '_i': 'def g():\\n    global g0\\n    locals()\\n    def g0():\\n        return g0.__name__\\n\\ng()\\ng0()',\n",
       " '_ii': 'def g():\\n    global g0\\n    def g0():\\n        return g0.__name__\\n\\ng()\\ng0()',\n",
       " '_iii': 'def g():\\n    global g0\\n    def g0():\\n        return g0.__name__\\n\\ng()',\n",
       " '_i1': 'a = 0\\ndef f():\\n    a = 1\\n    print(\"{a}\")\\n\\nf()\\nprint(f\"{a}\")',\n",
       " 'a': 0,\n",
       " 'f': <function __main__.f(x)>,\n",
       " '_i2': 'a = 0\\ndef f():\\n    a = 1\\n    print(f\"{a}\")\\n\\nf()\\nprint(f\"{a}\")',\n",
       " '_i3': 'a = 0\\ndef f():\\n    a = 1\\n    print(f\"{a}\")\\n\\nf()\\nprint(f\"{a}\")',\n",
       " '_i4': 'a = 0\\ndef f():\\n    global a\\n    a = 1\\n    print(f\"{a}\")\\n\\nf()\\nprint(f\"{a}\")',\n",
       " '_i5': 'a = 0\\ndef f():\\n    global a\\n    a = 1\\n    print(f\"{a}\")\\n\\nf()\\nprint(f\"{a}\")',\n",
       " '_i6': 'a = 0\\ndef f():\\n    # global a\\n    a = 1\\n    print(f\"{a}\")\\n\\nf()\\nprint(f\"{a}\")',\n",
       " '_i7': 'a = 0\\ndef f():\\n    # global a\\n    a = 1\\n    print(f\"{a}\")\\n\\nf()\\nprint(f\"{a}\")',\n",
       " '_i8': 'def f():\\n    None',\n",
       " '_i9': 'def f():\\n    None\\n\\ndef f():\\n    return 3',\n",
       " '_i10': 'def f():\\n    None\\n\\ndef f(x):\\n    return 3',\n",
       " '_i11': 'def f():\\n    None\\n\\ndef f(x):\\n    return 3\\n\\nf()',\n",
       " '_i12': 'def f():\\n    None\\n\\ndef f(x):\\n    return 3\\n\\nglobal f',\n",
       " '_i13': 'def f():\\n    None\\n\\ndef f(x):\\n    return 3\\n\\nglobal f',\n",
       " '_i14': 'def g():\\n    global g0\\n    def g0():\\n        return g0.__name__\\n\\ng()',\n",
       " 'g': <function __main__.g()>,\n",
       " 'g0': <function __main__.g0()>,\n",
       " '_i15': 'def g():\\n    global g0\\n    def g0():\\n        return g0.__name__\\n\\ng()\\ng0()',\n",
       " '_15': 'g0',\n",
       " '_i16': 'def g():\\n    global g0\\n    locals()\\n    def g0():\\n        return g0.__name__\\n\\ng()\\ng0()',\n",
       " '_16': 'g0',\n",
       " '_i17': 'def g():\\n    global g0\\n    def g0():\\n        return g0.__name__\\n\\ng()\\ng0()\\nlocals()'}"
      ]
     },
     "execution_count": 17,
     "metadata": {},
     "output_type": "execute_result"
    }
   ],
   "source": [
    "def g():\n",
    "    global g0\n",
    "    def g0():\n",
    "        return g0.__name__\n",
    "\n",
    "g()\n",
    "g0()\n",
    "locals()"
   ]
  }
 ],
 "metadata": {
  "kernelspec": {
   "display_name": "Python 3",
   "language": "python",
   "name": "python3"
  },
  "language_info": {
   "codemirror_mode": {
    "name": "ipython",
    "version": 3
   },
   "file_extension": ".py",
   "mimetype": "text/x-python",
   "name": "python",
   "nbconvert_exporter": "python",
   "pygments_lexer": "ipython3",
   "version": "3.11.6"
  },
  "orig_nbformat": 4,
  "vscode": {
   "interpreter": {
    "hash": "e7370f93d1d0cde622a1f8e1c04877d8463912d04d973331ad4851f04de6915a"
   }
  }
 },
 "nbformat": 4,
 "nbformat_minor": 2
}
