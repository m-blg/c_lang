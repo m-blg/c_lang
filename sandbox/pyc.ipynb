{
 "cells": [
  {
   "cell_type": "code",
   "execution_count": 2,
   "metadata": {},
   "outputs": [],
   "source": [
    "from ctypes import *\n",
    "def add(x: c_int32, y: c_int32):\n",
    "    return x + y"
   ]
  },
  {
   "cell_type": "code",
   "execution_count": 4,
   "metadata": {},
   "outputs": [
    {
     "name": "stdout",
     "output_type": "stream",
     "text": [
      "def add(x: c_int32, y: c_int32):\n",
      "    return x + y\n",
      "\n",
      "Module(\n",
      "  body=[\n",
      "    FunctionDef(\n",
      "      name='add',\n",
      "      args=arguments(\n",
      "        posonlyargs=[],\n",
      "        args=[\n",
      "          arg(\n",
      "            arg='x',\n",
      "            annotation=Name(id='c_int32', ctx=Load())),\n",
      "          arg(\n",
      "            arg='y',\n",
      "            annotation=Name(id='c_int32', ctx=Load()))],\n",
      "        kwonlyargs=[],\n",
      "        kw_defaults=[],\n",
      "        defaults=[]),\n",
      "      body=[\n",
      "        Return(\n",
      "          value=BinOp(\n",
      "            left=Name(id='x', ctx=Load()),\n",
      "            op=Add(),\n",
      "            right=Name(id='y', ctx=Load())))],\n",
      "      decorator_list=[],\n",
      "      type_params=[])],\n",
      "  type_ignores=[])\n"
     ]
    }
   ],
   "source": [
    "import inspect\n",
    "import ast\n",
    "\n",
    "INSTR_MAP = {\n",
    "    (ast.BinOp, c_int32): \"iadd\"\n",
    "}\n",
    "\n",
    "def compile_binop(op: ast.BinOp) -> list[str]:\n",
    "    left_type\n",
    "    right_type\n",
    "    if c_int_is_signed(pyc_type(op.left)) and c_int_is_signed(pyc_type(op.right)):\n",
    "\n",
    "    \"pop %eax\"\n",
    "    \"pop %ebx\"\n",
    "    \"add %ebx, %eax\"\n",
    "\n",
    "\n",
    "\n",
    "def compile(f):\n",
    "    s = inspect.getsource(f)\n",
    "    tree = ast.parse(s)\n",
    "\n",
    "    # tree.body[0].body[0].value.op = ast.Sub()\n",
    "\n",
    "    print(ast.dump(tree, indent=2))\n",
    "\n",
    "compile(add)"
   ]
  }
 ],
 "metadata": {
  "kernelspec": {
   "display_name": "Python 3",
   "language": "python",
   "name": "python3"
  },
  "language_info": {
   "codemirror_mode": {
    "name": "ipython",
    "version": 3
   },
   "file_extension": ".py",
   "mimetype": "text/x-python",
   "name": "python",
   "nbconvert_exporter": "python",
   "pygments_lexer": "ipython3",
   "version": "3.12.1"
  },
  "orig_nbformat": 4,
  "vscode": {
   "interpreter": {
    "hash": "ea2d0de66aaa89d877809e6e9dcecf5d9c95e6fc0f4afd0a1d8731ae6cea6e04"
   }
  }
 },
 "nbformat": 4,
 "nbformat_minor": 2
}
