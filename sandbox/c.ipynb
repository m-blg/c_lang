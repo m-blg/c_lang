{
 "cells": [
  {
   "cell_type": "code",
   "execution_count": 1,
   "metadata": {},
   "outputs": [],
   "source": [
    "import sys\n",
    "sys.path.insert(1, '../lib/')\n",
    "from c_lexer import *"
   ]
  },
  {
   "cell_type": "code",
   "execution_count": 2,
   "metadata": {},
   "outputs": [
    {
     "data": {
      "text/plain": [
       "['auto',\n",
       " 'break',\n",
       " 'case',\n",
       " 'char',\n",
       " 'const',\n",
       " 'continue',\n",
       " 'default',\n",
       " 'do',\n",
       " 'double',\n",
       " 'else',\n",
       " 'enum',\n",
       " 'extern',\n",
       " 'float',\n",
       " 'for',\n",
       " 'goto',\n",
       " 'if',\n",
       " 'inline',\n",
       " 'int',\n",
       " 'long',\n",
       " 'register',\n",
       " 'restrict',\n",
       " 'return',\n",
       " 'short',\n",
       " 'signed',\n",
       " 'sizeof',\n",
       " 'static',\n",
       " 'struct',\n",
       " 'switch',\n",
       " 'typedef',\n",
       " 'union',\n",
       " 'unsigned',\n",
       " 'void',\n",
       " 'volatile',\n",
       " 'while',\n",
       " '_Bool',\n",
       " '_Complex',\n",
       " '_Imaginary']"
      ]
     },
     "execution_count": 2,
     "metadata": {},
     "output_type": "execute_result"
    }
   ],
   "source": [
    "l = \"auto break case char const continue default do double else enum extern float for goto if inline int long register restrict return short signed sizeof static struct switch typedef union unsigned void volatile while _Bool _Complex _Imaginary\"\n",
    "\n",
    "l.split()"
   ]
  },
  {
   "cell_type": "code",
   "execution_count": 3,
   "metadata": {},
   "outputs": [],
   "source": [
    "df = str(\n",
    "\"\"\"\n",
    "typedef struct\n",
    "{\n",
    "    uchar_t e_ident[16]; /* ELF identification */\n",
    "    Elf64_Half e_type; /* Object file type */\n",
    "    Elf64_Half e_machine; /* Machine type */\n",
    "    Elf64_Word e_version; /* Object file version */\n",
    "    Elf64_Addr e_entry; /* Entry point address */\n",
    "    Elf64_Off e_phoff; /* Program header offset */\n",
    "    Elf64_Off e_shoff; /* Section header offset */\n",
    "    Elf64_Word e_flags; /* Processor-specific flags */\n",
    "    Elf64_Half e_ehsize; /* ELF header size */\n",
    "    Elf64_Half e_phentsize; /* Size of program header entry */\n",
    "    Elf64_Half e_phnum; /* Number of program header entries */\n",
    "    Elf64_Half e_shentsize; /* Size of section header entry */\n",
    "    Elf64_Half e_shnum; /* Number of section header entries */\n",
    "    Elf64_Half e_shstrndx; /* Section name string table index */\n",
    "} Elf64_Ehdr;\n",
    "\"\"\")\n",
    "\n",
    "# print(str(df[1]))"
   ]
  },
  {
   "cell_type": "code",
   "execution_count": 4,
   "metadata": {},
   "outputs": [
    {
     "name": "stdout",
     "output_type": "stream",
     "text": [
      "3\n"
     ]
    }
   ],
   "source": [
    "def foo():\n",
    "    return 3\n",
    "\n",
    "match foo():\n",
    "    case i, j: print(i, j)\n",
    "    case i: print(i)\n",
    "# i, j = foo()"
   ]
  },
  {
   "cell_type": "code",
   "execution_count": 5,
   "metadata": {},
   "outputs": [
    {
     "name": "stdout",
     "output_type": "stream",
     "text": [
      "None\n",
      "<re.Match object; span=(0, 1), match=' '>\n",
      "(0, 1)\n"
     ]
    }
   ],
   "source": [
    "import re\n",
    "print(re.match(r\"\\s+\", \"\"))\n",
    "print(re.match(r\"\\s+\", \" \"))\n",
    "\n",
    "m = re.match(r\"\\s+\", \" \")\n",
    "print(m.span())"
   ]
  },
  {
   "cell_type": "code",
   "execution_count": 6,
   "metadata": {},
   "outputs": [
    {
     "name": "stdout",
     "output_type": "stream",
     "text": [
      "<re.Match object; span=(0, 5), match=' \\n   '>\n",
      "(' ',)\n"
     ]
    }
   ],
   "source": [
    "m = re.match(r\"\\s(\\s)+\", \" \\n   \")\n",
    "print(m)\n",
    "print(m.groups())"
   ]
  },
  {
   "cell_type": "code",
   "execution_count": 7,
   "metadata": {},
   "outputs": [
    {
     "name": "stdout",
     "output_type": "stream",
     "text": [
      "__class__: <class 're.Match'>\n",
      "__class_getitem__: <built-in method __class_getitem__ of type object at 0x55dfeb4a69d0>\n",
      "__copy__: <built-in method __copy__ of re.Match object at 0x7fa272811cf0>\n",
      "__deepcopy__: <built-in method __deepcopy__ of re.Match object at 0x7fa272811cf0>\n",
      "__delattr__: <method-wrapper '__delattr__' of re.Match object at 0x7fa272811cf0>\n",
      "__dir__: <built-in method __dir__ of re.Match object at 0x7fa272811cf0>\n",
      "__doc__: The result of re.match() and re.search().\n",
      "Match objects always have a boolean value of True.\n",
      "__eq__: <method-wrapper '__eq__' of re.Match object at 0x7fa272811cf0>\n",
      "__format__: <built-in method __format__ of re.Match object at 0x7fa272811cf0>\n",
      "__ge__: <method-wrapper '__ge__' of re.Match object at 0x7fa272811cf0>\n",
      "__getattribute__: <method-wrapper '__getattribute__' of re.Match object at 0x7fa272811cf0>\n",
      "__getitem__: <method-wrapper '__getitem__' of re.Match object at 0x7fa272811cf0>\n",
      "__getstate__: <built-in method __getstate__ of re.Match object at 0x7fa272811cf0>\n",
      "__gt__: <method-wrapper '__gt__' of re.Match object at 0x7fa272811cf0>\n",
      "__hash__: <method-wrapper '__hash__' of re.Match object at 0x7fa272811cf0>\n",
      "__init__: <method-wrapper '__init__' of re.Match object at 0x7fa272811cf0>\n",
      "__init_subclass__: <built-in method __init_subclass__ of type object at 0x55dfeb4a69d0>\n",
      "__le__: <method-wrapper '__le__' of re.Match object at 0x7fa272811cf0>\n",
      "__lt__: <method-wrapper '__lt__' of re.Match object at 0x7fa272811cf0>\n",
      "__module__: re\n",
      "__ne__: <method-wrapper '__ne__' of re.Match object at 0x7fa272811cf0>\n",
      "__new__: <built-in method __new__ of type object at 0x7fa276370400>\n",
      "__reduce__: <built-in method __reduce__ of re.Match object at 0x7fa272811cf0>\n",
      "__reduce_ex__: <built-in method __reduce_ex__ of re.Match object at 0x7fa272811cf0>\n",
      "__repr__: <method-wrapper '__repr__' of re.Match object at 0x7fa272811cf0>\n",
      "__setattr__: <method-wrapper '__setattr__' of re.Match object at 0x7fa272811cf0>\n",
      "__sizeof__: <built-in method __sizeof__ of re.Match object at 0x7fa272811cf0>\n",
      "__str__: <method-wrapper '__str__' of re.Match object at 0x7fa272811cf0>\n",
      "__subclasshook__: <built-in method __subclasshook__ of type object at 0x55dfeb4a69d0>\n",
      "end: <built-in method end of re.Match object at 0x7fa272811cf0>\n",
      "endpos: 9\n",
      "expand: <built-in method expand of re.Match object at 0x7fa272811cf0>\n",
      "group: <built-in method group of re.Match object at 0x7fa272811cf0>\n",
      "groupdict: <built-in method groupdict of re.Match object at 0x7fa272811cf0>\n",
      "groups: <built-in method groups of re.Match object at 0x7fa272811cf0>\n",
      "lastgroup: None\n",
      "lastindex: 1\n",
      "pos: 0\n",
      "re: re.compile('(ab)+')\n",
      "regs: ((0, 6), (4, 6))\n",
      "span: <built-in method span of re.Match object at 0x7fa272811cf0>\n",
      "start: <built-in method start of re.Match object at 0x7fa272811cf0>\n",
      "string: ababab ab\n",
      "ababab\n"
     ]
    }
   ],
   "source": [
    "# print(c_lexer.parse_keyword(\"if\", c_lexer.LexerData(0,0)))\n",
    "m = re.match(r\"(ab)+\", \"ababab ab\")\n",
    "for x in dir(m):\n",
    "    print(f\"{x}:\", eval(\"m.\"+x))\n",
    "\n",
    "print(m.group())\n"
   ]
  },
  {
   "cell_type": "code",
   "execution_count": 8,
   "metadata": {},
   "outputs": [
    {
     "name": "stdout",
     "output_type": "stream",
     "text": [
      "{'col': 1, 'line': 1, 'text': 'typedef', 'type': 'identifier'}\n"
     ]
    }
   ],
   "source": [
    "from pprint import pprint\n",
    "d = LexerData(1, 1)\n",
    "t, r, rd = parse_keyword(df[1:], d)\n",
    "pprint(t.__dict__)"
   ]
  },
  {
   "cell_type": "code",
   "execution_count": 9,
   "metadata": {},
   "outputs": [
    {
     "ename": "TypeError",
     "evalue": "Span.__init__() missing 2 required positional arguments: 'end_line' and 'end_col'",
     "output_type": "error",
     "traceback": [
      "\u001b[0;31m---------------------------------------------------------------------------\u001b[0m",
      "\u001b[0;31mTypeError\u001b[0m                                 Traceback (most recent call last)",
      "Cell \u001b[0;32mIn[9], line 1\u001b[0m\n\u001b[0;32m----> 1\u001b[0m ident \u001b[39m=\u001b[39m Ident(\u001b[39m'\u001b[39m\u001b[39mvar\u001b[39m\u001b[39m'\u001b[39m, Span(\u001b[39m1\u001b[39;49m,\u001b[39m1\u001b[39;49m,\u001b[39m1\u001b[39;49m,\u001b[39m1\u001b[39;49m))\n\u001b[1;32m      2\u001b[0m \u001b[39m# ident.__dict__\u001b[39;00m\n\u001b[1;32m      3\u001b[0m ident\n",
      "\u001b[0;31mTypeError\u001b[0m: Span.__init__() missing 2 required positional arguments: 'end_line' and 'end_col'"
     ]
    }
   ],
   "source": [
    "ident = Ident('var', Span(1,1,1,1))\n",
    "# ident.__dict__\n",
    "ident"
   ]
  },
  {
   "cell_type": "code",
   "execution_count": 11,
   "metadata": {},
   "outputs": [
    {
     "data": {
      "text/plain": [
       "<enum 'IntegerConstantBase'>"
      ]
     },
     "execution_count": 11,
     "metadata": {},
     "output_type": "execute_result"
    }
   ],
   "source": [
    "type(IntegerConstantBase.DEC)"
   ]
  }
 ],
 "metadata": {
  "kernelspec": {
   "display_name": "Python 3",
   "language": "python",
   "name": "python3"
  },
  "language_info": {
   "codemirror_mode": {
    "name": "ipython",
    "version": 3
   },
   "file_extension": ".py",
   "mimetype": "text/x-python",
   "name": "python",
   "nbconvert_exporter": "python",
   "pygments_lexer": "ipython3",
   "version": "3.12.1"
  },
  "orig_nbformat": 4,
  "vscode": {
   "interpreter": {
    "hash": "ea2d0de66aaa89d877809e6e9dcecf5d9c95e6fc0f4afd0a1d8731ae6cea6e04"
   }
  }
 },
 "nbformat": 4,
 "nbformat_minor": 2
}
