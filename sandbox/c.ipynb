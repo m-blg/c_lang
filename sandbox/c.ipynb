{
 "cells": [
  {
   "cell_type": "code",
   "execution_count": 1,
   "metadata": {},
   "outputs": [],
   "source": [
    "import sys\n",
    "sys.path.insert(1, '../lib/')\n",
    "import c_lexer"
   ]
  },
  {
   "cell_type": "code",
   "execution_count": 2,
   "metadata": {},
   "outputs": [
    {
     "data": {
      "text/plain": [
       "['auto',\n",
       " 'break',\n",
       " 'case',\n",
       " 'char',\n",
       " 'const',\n",
       " 'continue',\n",
       " 'default',\n",
       " 'do',\n",
       " 'double',\n",
       " 'else',\n",
       " 'enum',\n",
       " 'extern',\n",
       " 'float',\n",
       " 'for',\n",
       " 'goto',\n",
       " 'if',\n",
       " 'inline',\n",
       " 'int',\n",
       " 'long',\n",
       " 'register',\n",
       " 'restrict',\n",
       " 'return',\n",
       " 'short',\n",
       " 'signed',\n",
       " 'sizeof',\n",
       " 'static',\n",
       " 'struct',\n",
       " 'switch',\n",
       " 'typedef',\n",
       " 'union',\n",
       " 'unsigned',\n",
       " 'void',\n",
       " 'volatile',\n",
       " 'while',\n",
       " '_Bool',\n",
       " '_Complex',\n",
       " '_Imaginary']"
      ]
     },
     "execution_count": 2,
     "metadata": {},
     "output_type": "execute_result"
    }
   ],
   "source": [
    "l = \"auto break case char const continue default do double else enum extern float for goto if inline int long register restrict return short signed sizeof static struct switch typedef union unsigned void volatile while _Bool _Complex _Imaginary\"\n",
    "\n",
    "l.split()"
   ]
  },
  {
   "cell_type": "code",
   "execution_count": 3,
   "metadata": {},
   "outputs": [
    {
     "name": "stdout",
     "output_type": "stream",
     "text": [
      "116\n"
     ]
    }
   ],
   "source": [
    "df = memoryview(\n",
    "b\"\"\"\n",
    "typedef struct\n",
    "{\n",
    "    uchar_t e_ident[16]; /* ELF identification */\n",
    "    Elf64_Half e_type; /* Object file type */\n",
    "    Elf64_Half e_machine; /* Machine type */\n",
    "    Elf64_Word e_version; /* Object file version */\n",
    "    Elf64_Addr e_entry; /* Entry point address */\n",
    "    Elf64_Off e_phoff; /* Program header offset */\n",
    "    Elf64_Off e_shoff; /* Section header offset */\n",
    "    Elf64_Word e_flags; /* Processor-specific flags */\n",
    "    Elf64_Half e_ehsize; /* ELF header size */\n",
    "    Elf64_Half e_phentsize; /* Size of program header entry */\n",
    "    Elf64_Half e_phnum; /* Number of program header entries */\n",
    "    Elf64_Half e_shentsize; /* Size of section header entry */\n",
    "    Elf64_Half e_shnum; /* Number of section header entries */\n",
    "    Elf64_Half e_shstrndx; /* Section name string table index */\n",
    "} Elf64_Ehdr;\n",
    "\"\"\")\n",
    "\n",
    "print(str(df[1]))"
   ]
  },
  {
   "cell_type": "code",
   "execution_count": 4,
   "metadata": {},
   "outputs": [
    {
     "name": "stdout",
     "output_type": "stream",
     "text": [
      "3\n"
     ]
    }
   ],
   "source": [
    "def foo():\n",
    "    return 3\n",
    "\n",
    "match foo():\n",
    "    case i, j: print(i, j)\n",
    "    case i: print(i)\n",
    "# i, j = foo()"
   ]
  },
  {
   "cell_type": "code",
   "execution_count": 20,
   "metadata": {},
   "outputs": [
    {
     "name": "stdout",
     "output_type": "stream",
     "text": [
      "None\n",
      "<re.Match object; span=(0, 1), match=' '>\n",
      "(0, 1)\n"
     ]
    }
   ],
   "source": [
    "import re\n",
    "print(re.match(r\"\\s+\", \"\"))\n",
    "print(re.match(r\"\\s+\", \" \"))\n",
    "\n",
    "m = re.match(r\"\\s+\", \" \")\n",
    "print(m.span())"
   ]
  },
  {
   "cell_type": "code",
   "execution_count": 37,
   "metadata": {},
   "outputs": [
    {
     "name": "stdout",
     "output_type": "stream",
     "text": [
      "<re.Match object; span=(0, 5), match=' \\n   '>\n",
      "(' ',)\n"
     ]
    }
   ],
   "source": [
    "m = re.match(r\"\\s(\\s)+\", \" \\n   \")\n",
    "print(m)\n",
    "print(m.groups())"
   ]
  },
  {
   "cell_type": "code",
   "execution_count": 7,
   "metadata": {},
   "outputs": [
    {
     "data": {
      "text/plain": [
       "(<c.CToken at 0x7f111caebbf0>, 'f')"
      ]
     },
     "execution_count": 7,
     "metadata": {},
     "output_type": "execute_result"
    }
   ],
   "source": [
    "c.parse_keyword(\"if\", 0, 0)"
   ]
  }
 ],
 "metadata": {
  "kernelspec": {
   "display_name": "Python 3",
   "language": "python",
   "name": "python3"
  },
  "language_info": {
   "codemirror_mode": {
    "name": "ipython",
    "version": 3
   },
   "file_extension": ".py",
   "mimetype": "text/x-python",
   "name": "python",
   "nbconvert_exporter": "python",
   "pygments_lexer": "ipython3",
   "version": "3.12.1"
  },
  "orig_nbformat": 4,
  "vscode": {
   "interpreter": {
    "hash": "ea2d0de66aaa89d877809e6e9dcecf5d9c95e6fc0f4afd0a1d8731ae6cea6e04"
   }
  }
 },
 "nbformat": 4,
 "nbformat_minor": 2
}
